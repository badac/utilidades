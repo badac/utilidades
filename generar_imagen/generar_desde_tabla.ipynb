{
 "cells": [
  {
   "cell_type": "markdown",
   "metadata": {},
   "source": [
    "## Generar imágenes MEDIA, BAJA y MINI\n",
    "\n",
    "Este script genera imágenes en MEDIA y BAJA a partir de ALTA\n",
    "Hay varios modos de funcionamiento, dependiendo de las necesidades"
   ]
  },
  {
   "cell_type": "code",
   "execution_count": null,
   "metadata": {},
   "outputs": [],
   "source": [
    "import os\n",
    "import sys\n",
    "import datetime\n",
    "from pathlib import Path\n",
    "import numpy as np\n",
    "import pandas as pd"
   ]
  },
  {
   "cell_type": "code",
   "execution_count": null,
   "metadata": {},
   "outputs": [],
   "source": [
    "size_media = (1920, 1920)\n",
    "size_baja = (512, 512)\n",
    "size_mini = (128, 128)"
   ]
  },
  {
   "cell_type": "markdown",
   "metadata": {},
   "source": [
    "## Generación desde tabla con rutas\n",
    "\n",
    "Genera copias usando como entrada una tabla con rutas a los archivos originales.  Las rutas deben llevar a una imagen.  Este script no filtra archivos que no son de imagen"
   ]
  },
  {
   "cell_type": "code",
   "execution_count": null,
   "metadata": {},
   "outputs": [],
   "source": [
    "#ruta a la tabla de datos\n",
    "tabla = \"datos/tabla_entrada.csv\"\n",
    "#nombre de la columna con las rutas\n",
    "col_rutas = \"Path\"\n",
    "#carpeta de salida en donde se guardan las imagenes generadas\n",
    "dir_salida = \"\""
   ]
  },
  {
   "cell_type": "code",
   "execution_count": null,
   "metadata": {},
   "outputs": [],
   "source": [
    "datos = pd.read_csv(tabla)\n",
    "datos"
   ]
  },
  {
   "cell_type": "markdown",
   "metadata": {},
   "source": [
    "## Genera minuatura a partir de la ruta en la tabla"
   ]
  },
  {
   "cell_type": "code",
   "execution_count": null,
   "metadata": {},
   "outputs": [],
   "source": [
    "for index, row in datos.iterrows():\n",
    "    file = Path(row[col_rutas])\n",
    "\n",
    "    isalida = dir_salida / f\"{file.stem}.jpg\"\n",
    "    try:\n",
    "        inim = Image.open(file)\n",
    "    except:\n",
    "        print(f\"Error abriendo: {file}\")\n",
    "        continue\n",
    "\n",
    "    rgbim = inim.convert('RGB')             \n",
    "    rgbim.thumbnail(size_mini)\n",
    "    try:\n",
    "        rgbim.save(isalida, \"jpeg\")\n",
    "    except OSError as e:\n",
    "        print(f\"Error creando: {isalida}: {e}\")\n",
    "        continue\n",
    "    \n",
    "    print(f\"Creada MINI: {isalida}\") "
   ]
  }
 ],
 "metadata": {
  "kernelspec": {
   "display_name": "Python 3.9.12 ('base')",
   "language": "python",
   "name": "python3"
  },
  "language_info": {
   "name": "python",
   "version": "3.9.12"
  },
  "orig_nbformat": 4,
  "vscode": {
   "interpreter": {
    "hash": "90cde0f21875ec33266a3a545c06008db47b8cb28f7fd2d8a7c1a2d06cea1491"
   }
  }
 },
 "nbformat": 4,
 "nbformat_minor": 2
}
