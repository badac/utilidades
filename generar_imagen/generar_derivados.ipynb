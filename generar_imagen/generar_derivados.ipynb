{
 "cells": [
  {
   "cell_type": "markdown",
   "metadata": {},
   "source": [
    "## Generar imágenes MEDIA, BAJA y MINI\n",
    "\n",
    "Este script genera imágenes en MEDIA y BAJA a partir de ALTA.  El script espera una tabla con la columna 'ruta_doc', que contiene la rutas a la carpetas de documentos del archivo.  Tambien espera la columna 'doc_existe' con 0 y 1, representando la exsitencia o no de la carpeta de documento."
   ]
  },
  {
   "cell_type": "code",
   "execution_count": null,
   "metadata": {},
   "outputs": [],
   "source": [
    "import os\n",
    "import sys\n",
    "import datetime\n",
    "from pathlib import Path\n",
    "import numpy as np\n",
    "import pandas as pd\n",
    "from PIL import Image"
   ]
  },
  {
   "cell_type": "code",
   "execution_count": null,
   "metadata": {},
   "outputs": [],
   "source": [
    "size_media = (1920, 1920)\n",
    "size_baja = (512, 512)\n",
    "size_mini = (128, 128)\n",
    "\n",
    "# Lista de prefijos y sufijos para filtar archivos\n",
    "prefijos_prohibidos = ['.', 'DS_']\n",
    "sufijos_permitidos = ['.tiff','.tif','.TIF','.tif','.png','.PNG','.jpg','.JPG','.jpeg','.JPEG','.RAW','.CRW']\n",
    "modos = ['I;16', 'I;16B']"
   ]
  },
  {
   "cell_type": "markdown",
   "metadata": {},
   "source": [
    "## Función para filtrar archivos según su extension\n",
    "\n",
    "Esta función usa la lista de prefijos y sufijos para filtrar los archivos."
   ]
  },
  {
   "cell_type": "code",
   "execution_count": null,
   "metadata": {},
   "outputs": [],
   "source": [
    "def filtrar_archivos(arr, sufijos_incluidos, prefijos_excluidos):\n",
    "    def has_allowed_suffix(s, suffixes):\n",
    "        return any(s.endswith(suffix) for suffix in suffixes)\n",
    "    \n",
    "    def has_not_allowed_prefix(s, prefixes):\n",
    "        return any(s.startswith(prefix) for prefix in prefixes)\n",
    "    \n",
    "    filtered_elements = [\n",
    "        element for element in arr \n",
    "        if has_allowed_suffix(element.suffix, sufijos_incluidos) and not has_not_allowed_prefix(element.name, prefijos_excluidos)\n",
    "    ]\n",
    "    \n",
    "    return filtered_elements"
   ]
  },
  {
   "cell_type": "code",
   "execution_count": null,
   "metadata": {},
   "outputs": [],
   "source": [
    "#ruta a la tabla de datos\n",
    "tabla = \"tabla.csv\"\n",
    "#nombre de la columna con las rutas a la carpeta de documentos\n",
    "col_rutas = \"ruta_doc\"\n"
   ]
  },
  {
   "cell_type": "markdown",
   "metadata": {},
   "source": [
    "## Limpieza básica\n",
    "\n",
    "Elimina filas vacías y filtra los documentos que existen solamente."
   ]
  },
  {
   "cell_type": "code",
   "execution_count": null,
   "metadata": {},
   "outputs": [],
   "source": [
    "datos = pd.read_csv(tabla)\n",
    "datos = datos.dropna(how='all')\n",
    "datos = datos[datos['doc_existe'] == 1]\n",
    "datos"
   ]
  },
  {
   "cell_type": "markdown",
   "metadata": {},
   "source": [
    "## Crear derivados para MEDA, BAJA y MINI"
   ]
  },
  {
   "cell_type": "code",
   "execution_count": null,
   "metadata": {},
   "outputs": [],
   "source": [
    "for index, row in datos.iterrows():\n",
    "    \n",
    "    ruta_doc = Path(row[col_rutas])\n",
    "    ruta_alta = Path(ruta_doc) / Path('ALTA')\n",
    "    ruta_media = Path(ruta_doc) / Path('MEDIA')\n",
    "    ruta_baja = Path(ruta_doc) / Path('BAJA')\n",
    "    ruta_mini = Path(ruta_doc) / Path('MINI')\n",
    "\n",
    "    archivos_orig = filtrar_archivos([f for f in ruta_alta.iterdir()], sufijos_permitidos, prefijos_prohibidos)\n",
    "\n",
    "    print(archivos_orig)\n",
    "\n",
    "    ## Generar Derivados\n",
    "    for orig in archivos_orig:\n",
    "\n",
    "        salida_media = ruta_media / Path(f\"{orig.stem}.jpg\")\n",
    "        salida_baja = ruta_baja / Path(f\"{orig.stem}.jpg\")\n",
    "        salida_mini = ruta_mini / Path(f\"{orig.stem}.jpg\")\n",
    "\n",
    "        #inim = None\n",
    "        #rgbim = None\n",
    "\n",
    "        try:\n",
    "            inim = Image.open(orig)\n",
    "            # Solución temporal para error en conversión de I,16 a RGB\n",
    "            if inim.mode in modos:\n",
    "\t            #inim = inim.point(lambda i: i * (1 / 255))\n",
    "                inim = inim.convert(\"F\").point(lambda i: i * (1 / 255))\n",
    "            \n",
    "            rgbim = inim.convert('RGB')\n",
    "\n",
    "        except Exception as e:\n",
    "            print(f\"Error abriendo: {orig}\")\n",
    "            print(e)\n",
    "            continue\n",
    "        \n",
    "        ## crear media\n",
    "\n",
    "        try:\n",
    "            media_im = rgbim.copy()\n",
    "            media_im.thumbnail(size_media)\n",
    "            media_im.save(salida_media, \"jpeg\")\n",
    "        except OSError as e:\n",
    "            print(f\"Error creando MEDIA: {salida_media}: {e}\")\n",
    "            continue\n",
    "        \n",
    "        print(f\"Creada MEDIA: {salida_media}\")\n",
    "\n",
    "        # Crear bajas\n",
    "        try:\n",
    "            baja_im = rgbim.copy()\n",
    "            baja_im.thumbnail(size_baja)\n",
    "            baja_im.save(salida_baja, \"jpeg\")\n",
    "        except OSError as e:\n",
    "            print(f\"Error creando BAJA: {salida_baja}: {e}\")\n",
    "            continue\n",
    "        \n",
    "        print(f\"Creada BAJA: {salida_baja}\")\n",
    "\n",
    "        try:\n",
    "            mini_im = rgbim.copy()\n",
    "            mini_im.thumbnail(size_mini)\n",
    "            mini_im.save(salida_mini, \"jpeg\")\n",
    "        except OSError as e: \n",
    "            print(f\"Error crea  ndo MINI: {salida_mini}: {e}\")\n",
    "            continue\n",
    "        \n",
    "        print(f\"Creada MINI: {salida_mini}\")"
   ]
  }
 ],
 "metadata": {
  "kernelspec": {
   "display_name": "base",
   "language": "python",
   "name": "python3"
  },
  "language_info": {
   "codemirror_mode": {
    "name": "ipython",
    "version": 3
   },
   "file_extension": ".py",
   "mimetype": "text/x-python",
   "name": "python",
   "nbconvert_exporter": "python",
   "pygments_lexer": "ipython3",
   "version": "3.9.12"
  },
  "orig_nbformat": 4,
  "vscode": {
   "interpreter": {
    "hash": "a9ddf0888e6e80559933098dbb91c0deeb75896d80260fb69c9b42af0ecb5f85"
   }
  }
 },
 "nbformat": 4,
 "nbformat_minor": 2
}
