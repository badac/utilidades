{
 "cells": [
  {
   "cell_type": "markdown",
   "metadata": {},
   "source": [
    "## Borrar derivados MEDIA, BAJA y MINI\n",
    "\n",
    "Este script borra las imágenes en MEDIA, BAJA y MINI de cada documento."
   ]
  },
  {
   "cell_type": "code",
   "execution_count": null,
   "metadata": {},
   "outputs": [],
   "source": [
    "import os\n",
    "import sys\n",
    "import datetime\n",
    "from pathlib import Path\n",
    "import numpy as np\n",
    "import pandas as pd\n",
    "from PIL import Image"
   ]
  },
  {
   "cell_type": "code",
   "execution_count": null,
   "metadata": {},
   "outputs": [],
   "source": [
    "prefijos_prohibidos = ['.', 'DS_']\n",
    "sufijos_permitidos = ['.tiff','.tif','.TIF','.tif','.png','.PNG','.jpg','.JPG','.jpeg','.JPEG','.RAW','.CRW']\n",
    "modos = ['I;16', 'I;16B']"
   ]
  },
  {
   "cell_type": "code",
   "execution_count": null,
   "metadata": {},
   "outputs": [],
   "source": [
    "#ruta a la tabla de datos\n",
    "tabla = \"tabla_entrada.csv\"\n",
    "#nombre de la columna con las rutas a la carpeta de documentos\n",
    "col_rutas = \"ruta_doc\"\n"
   ]
  },
  {
   "cell_type": "code",
   "execution_count": null,
   "metadata": {},
   "outputs": [],
   "source": [
    "datos = pd.read_csv(tabla)\n",
    "datos = datos.dropna(how='all')\n",
    "datos = datos[datos['doc_existe'] == 1]\n",
    "datos"
   ]
  },
  {
   "cell_type": "markdown",
   "metadata": {},
   "source": [
    "## Borrar derivados"
   ]
  },
  {
   "cell_type": "code",
   "execution_count": null,
   "metadata": {},
   "outputs": [],
   "source": [
    "for index, row in datos.iterrows():\n",
    "    ruta_doc = row[col_rutas]\n",
    "    ruta_media = Path(ruta_doc) / Path('MEDIA')\n",
    "    ruta_baja = Path(ruta_doc) / Path('BAJA')\n",
    "    ruta_mini = Path(ruta_doc) / Path('MINI')\n",
    "\n",
    "    try:\n",
    "        files = [f for f in ruta_media.iterdir()]\n",
    "        for f in files:\n",
    "            f.unlink()\n",
    "            print(f'Eliminado {f}')\n",
    "    except Exception as e:\n",
    "        print(f'Error eliminando archivo {e}')\n",
    "        continue\n",
    "\n",
    "    try:\n",
    "        files = [f for f in ruta_baja.iterdir()]\n",
    "        for f in files:\n",
    "            f.unlink()\n",
    "            print(f'Eliminado {f}')\n",
    "\n",
    "    except Exception as e:\n",
    "        print(f'Error eliminando archivo {e}')\n",
    "        continue\n",
    "\n",
    "    try:\n",
    "        files = [f for f in ruta_mini.iterdir()]\n",
    "        for f in files:\n",
    "            f.unlink()\n",
    "            print(f'Eliminado {f}')\n",
    "\n",
    "    except Exception as e:\n",
    "        print(f'Error eliminando archivo {e}')\n",
    "        continue"
   ]
  }
 ],
 "metadata": {
  "kernelspec": {
   "display_name": "base",
   "language": "python",
   "name": "python3"
  },
  "language_info": {
   "codemirror_mode": {
    "name": "ipython",
    "version": 3
   },
   "file_extension": ".py",
   "mimetype": "text/x-python",
   "name": "python",
   "nbconvert_exporter": "python",
   "pygments_lexer": "ipython3",
   "version": "3.9.12"
  },
  "orig_nbformat": 4,
  "vscode": {
   "interpreter": {
    "hash": "a9ddf0888e6e80559933098dbb91c0deeb75896d80260fb69c9b42af0ecb5f85"
   }
  }
 },
 "nbformat": 4,
 "nbformat_minor": 2
}
