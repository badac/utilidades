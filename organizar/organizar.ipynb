{
 "cells": [
  {
   "cell_type": "code",
   "execution_count": 25,
   "metadata": {},
   "outputs": [],
   "source": [
    "import sys\n",
    "import os\n",
    "from pathlib import Path\n",
    "import numpy as np\n",
    "import pandas as pd\n",
    "from pandas_path import path\n",
    "#from PIL import Image"
   ]
  },
  {
   "attachments": {},
   "cell_type": "markdown",
   "metadata": {},
   "source": [
    "## Crear carpetas de documentos por código"
   ]
  },
  {
   "cell_type": "code",
   "execution_count": 49,
   "metadata": {},
   "outputs": [
    {
     "data": {
      "text/plain": [
       "0      /Volumes/Carlos_Caicedo/CC/CC_CON/CC_FOT_CON_D...\n",
       "1      /Volumes/Carlos_Caicedo/CC/CC_CON/CC_FOT_CON_D...\n",
       "2      /Volumes/Carlos_Caicedo/CC/CC_CON/CC_FOT_CON_D...\n",
       "3      /Volumes/Carlos_Caicedo/CC/CC_CON/CC_FOT_CON_D...\n",
       "4      /Volumes/Carlos_Caicedo/CC/CC_CON/CC_FOT_CON_D...\n",
       "                             ...                        \n",
       "333    /Volumes/Carlos_Caicedo/CC/CC_CON/CC_FOT_CON_D...\n",
       "334    /Volumes/Carlos_Caicedo/CC/CC_CON/CC_FOT_CON_D...\n",
       "335    /Volumes/Carlos_Caicedo/CC/CC_CON/CC_FOT_CON_D...\n",
       "336    /Volumes/Carlos_Caicedo/CC/CC_CON/CC_FOT_CON_D...\n",
       "337    /Volumes/Carlos_Caicedo/CC/CC_CON/CC_FOT_CON_D...\n",
       "Length: 338, dtype: object"
      ]
     },
     "execution_count": 49,
     "metadata": {},
     "output_type": "execute_result"
    }
   ],
   "source": [
    "dir_base = Path('/Volumes/Carlos_Caicedo/CC/CC_CON')\n",
    "\n",
    "lista_arch = [f for f in dir_base.iterdir() if f.suffix == '.tif']\n",
    "df = pd.DataFrame(lista_arch, columns=['ruta'])\n",
    "#df['identifier'] = [f.stem[:17] for f in lista_arch]\n",
    "df['id'] = df['ruta'].path.stem.str[:17]\n",
    "df['doc_dir'] = df['ruta'].path.parent.str.cat(df['id'],sep=\"/\")\n",
    "#dirs = df['doc_dir'].drop_duplicates().reset_index()\n",
    "#Crea directorios\n",
    "#dirs['doc_dir'].path.mkdir()\n",
    "df['ruta_arch'] = df['doc_dir'].str.cat(df['ruta'].path.name, sep=\"/\", )\n",
    "df['ruta_arch'][0]\n",
    "df['ruta'].path.rename(df['ruta_arch'])"
   ]
  },
  {
   "cell_type": "code",
   "execution_count": 45,
   "metadata": {},
   "outputs": [
    {
     "data": {
      "text/plain": [
       "{'CC_FOT_CON_DOC001': [22], 'CC_FOT_CON_DOC002': [38, 39], 'CC_FOT_CON_DOC003': [60, 61], 'CC_FOT_CON_DOC004': [62, 63, 64], 'CC_FOT_CON_DOC005': [23], 'CC_FOT_CON_DOC006': [24], 'CC_FOT_CON_DOC007': [25, 26], 'CC_FOT_CON_DOC008': [27], 'CC_FOT_CON_DOC009': [28], 'CC_FOT_CON_DOC010': [29], 'CC_FOT_CON_DOC011': [66, 67], 'CC_FOT_CON_DOC012': [68, 69], 'CC_FOT_CON_DOC013': [70, 71], 'CC_FOT_CON_DOC014': [30], 'CC_FOT_CON_DOC015': [31, 72], 'CC_FOT_CON_DOC016': [73, 74], 'CC_FOT_CON_DOC017': [32], 'CC_FOT_CON_DOC018': [33, 34, 75, 76], 'CC_FOT_CON_DOC019': [35, 40, 41], 'CC_FOT_CON_DOC020': [42, 43], 'CC_FOT_CON_DOC021': [44, 45], 'CC_FOT_CON_DOC022': [46, 47], 'CC_FOT_CON_DOC023': [48, 49], 'CC_FOT_CON_DOC024': [50, 51], 'CC_FOT_CON_DOC025': [52, 53], 'CC_FOT_CON_DOC026': [54, 55], 'CC_FOT_CON_DOC027': [56, 57], 'CC_FOT_CON_DOC028': [58, 59], 'CC_FOT_CON_DOC029': [36], 'CC_FOT_CON_DOC030': [77], 'CC_FOT_CON_DOC031': [0], 'CC_FOT_CON_DOC032': [1], 'CC_FOT_CON_DOC033': [2], 'CC_FOT_CON_DOC034': [3], 'CC_FOT_CON_DOC035': [4], 'CC_FOT_CON_DOC036': [5], 'CC_FOT_CON_DOC037': [6], 'CC_FOT_CON_DOC038': [7], 'CC_FOT_CON_DOC039': [8], 'CC_FOT_CON_DOC040': [9], 'CC_FOT_CON_DOC041': [10], 'CC_FOT_CON_DOC042': [11], 'CC_FOT_CON_DOC043': [12], 'CC_FOT_CON_DOC044': [13], 'CC_FOT_CON_DOC045': [14], 'CC_FOT_CON_DOC046': [15], 'CC_FOT_CON_DOC047': [16], 'CC_FOT_CON_DOC048': [17], 'CC_FOT_CON_DOC049': [18], 'CC_FOT_CON_DOC050': [19], 'CC_FOT_CON_DOC051': [20], 'CC_FOT_CON_DOC052': [21], 'CC_FOT_CON_DOC053': [37], 'CC_FOT_CON_DOC054': [65], 'CC_FOT_CON_DOC055': [78], 'CC_FOT_CON_DOC056': [79], 'CC_FOT_CON_DOC057': [80], 'CC_FOT_CON_DOC058': [81], 'CC_FOT_CON_DOC059': [82], 'CC_FOT_CON_DOC060': [83], 'CC_FOT_CON_DOC061': [84], 'CC_FOT_CON_DOC062': [85], 'CC_FOT_CON_DOC063': [86], 'CC_FOT_CON_DOC064': [87], 'CC_FOT_CON_DOC065': [88], 'CC_FOT_CON_DOC066': [89], 'CC_FOT_CON_DOC067': [90], 'CC_FOT_CON_DOC068': [91], 'CC_FOT_CON_DOC069': [92], 'CC_FOT_CON_DOC070': [93, 94], 'CC_FOT_CON_DOC071': [95], 'CC_FOT_CON_DOC072': [96], 'CC_FOT_CON_DOC073': [97], 'CC_FOT_CON_DOC074': [98], 'CC_FOT_CON_DOC075': [99], 'CC_FOT_CON_DOC076': [100], 'CC_FOT_CON_DOC077': [101], 'CC_FOT_CON_DOC078': [102], 'CC_FOT_CON_DOC079': [103], 'CC_FOT_CON_DOC080': [104], 'CC_FOT_CON_DOC081': [105], 'CC_FOT_CON_DOC082': [106], 'CC_FOT_CON_DOC083': [107], 'CC_FOT_CON_DOC084': [108], 'CC_FOT_CON_DOC085': [109], 'CC_FOT_CON_DOC086': [110], 'CC_FOT_CON_DOC087': [111, 112], 'CC_FOT_CON_DOC088': [113, 114], 'CC_FOT_CON_DOC089': [115, 116], 'CC_FOT_CON_DOC090': [117, 118], 'CC_FOT_CON_DOC091': [119, 120], 'CC_FOT_CON_DOC092': [121, 122], 'CC_FOT_CON_DOC093': [123, 124], 'CC_FOT_CON_DOC094': [125, 126], 'CC_FOT_CON_DOC095': [127, 128], 'CC_FOT_CON_DOC096': [129, 130], 'CC_FOT_CON_DOC097': [131, 132], 'CC_FOT_CON_DOC098': [133, 134], 'CC_FOT_CON_DOC099': [135], 'CC_FOT_CON_DOC100': [136], ...}"
      ]
     },
     "execution_count": 45,
     "metadata": {},
     "output_type": "execute_result"
    }
   ],
   "source": [
    "gr = df.groupby(by='id')\n",
    "gr.groups"
   ]
  }
 ],
 "metadata": {
  "kernelspec": {
   "display_name": "base",
   "language": "python",
   "name": "python3"
  },
  "language_info": {
   "codemirror_mode": {
    "name": "ipython",
    "version": 3
   },
   "file_extension": ".py",
   "mimetype": "text/x-python",
   "name": "python",
   "nbconvert_exporter": "python",
   "pygments_lexer": "ipython3",
   "version": "3.9.12"
  },
  "orig_nbformat": 4
 },
 "nbformat": 4,
 "nbformat_minor": 2
}
