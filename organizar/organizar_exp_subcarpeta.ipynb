{
 "cells": [
  {
   "cell_type": "markdown",
   "metadata": {},
   "source": [
    "# Desagregar expediente\n",
    "\n",
    "Divide expedientes en documentos, agrupando las imágenes con el mismo código y organizandolas en carpetas por documento, y creando CRUDO, ALTA y MEDIA.\n",
    "\n",
    "Este código espera que dentro de cada expediente exista una carpeta ALTA, CRUDO y MEDIA con imágenes con códigos de documentos diferentes\n",
    "\n",
    "```\n",
    "TODO: BAJA y MINIATURA\n",
    "```"
   ]
  },
  {
   "cell_type": "code",
   "execution_count": null,
   "metadata": {},
   "outputs": [],
   "source": [
    "import sys\n",
    "import os\n",
    "from shutil import copy2\n",
    "from pathlib import Path\n",
    "import numpy as np\n",
    "import pandas as pd\n",
    "from pandas_path import path\n",
    "#from PIL import Image"
   ]
  },
  {
   "attachments": {},
   "cell_type": "markdown",
   "metadata": {},
   "source": [
    "## Crear carpetas de documentos por código"
   ]
  },
  {
   "cell_type": "code",
   "execution_count": null,
   "metadata": {},
   "outputs": [],
   "source": [
    "src_exp = Path('/Volumes/LaCie/Maria_Mercedes_Carranza/MMC/MMC_PER/MMC_PER_COR/MMC_PER_COR_1999/MMC_PER_COR_1999_EXP001')\n",
    "src_alta = src_exp / Path('ALTA')\n",
    "src_crudo = src_exp / Path('CRUDO')\n",
    "src_media = src_exp / Path('MEDIA')"
   ]
  },
  {
   "cell_type": "markdown",
   "metadata": {},
   "source": [
    "## Procesar alta"
   ]
  },
  {
   "cell_type": "code",
   "execution_count": null,
   "metadata": {},
   "outputs": [],
   "source": [
    "arch_alta = pd.DataFrame([f for f in src_alta.iterdir() if f.suffix == '.tif' or f.suffix == '.tiff'], columns=['ruta'])\n",
    "arch_alta['id'] = arch_alta['ruta'].path.stem.str[:30]\n",
    "arch_alta"
   ]
  },
  {
   "cell_type": "code",
   "execution_count": null,
   "metadata": {},
   "outputs": [],
   "source": [
    "alta_gr = arch_alta.groupby('id')\n",
    "alta_gr.groups"
   ]
  },
  {
   "cell_type": "code",
   "execution_count": null,
   "metadata": {},
   "outputs": [],
   "source": [
    "for name, group in alta_gr:\n",
    "    #print(name)\n",
    "    newdoc = src_exp / Path(name)\n",
    "    print(f'nuevo documento: {newdoc}')\n",
    "    #Crear las carpetas\n",
    "\n",
    "    try:     \n",
    "        newdoc.mkdir()\n",
    "    except FileExistsError as e:\n",
    "        print(f'Directorio {newdoc} existe, continuando con la copia de archivos')\n",
    "        continue\n",
    "\n",
    "    # Rutas a nuevas carpetas\n",
    "    newdoc_alta = newdoc / Path('ALTA')\n",
    "    print(f'newdoc alta: {newdoc_alta}')\n",
    "\n",
    "    try:\n",
    "        newdoc_alta.mkdir()\n",
    "        print(f\"Creada newdoc alta {newdoc_alta}\")\n",
    "    except FileExistsError as e:\n",
    "        print(f'Error creando: {e}')\n",
    "        continue\n",
    "\n",
    "    #transferir archivos\n",
    "\n",
    "    for index, row in group.iterrows():\n",
    "        try:\n",
    "            copy2(row.ruta, newdoc_alta)\n",
    "            print(f'Copiado archivo: {row.ruta}')\n",
    "        except Exception as e:\n",
    "            print(f'Error copiando {e}')\n",
    "            continue\n",
    "    print(f'archivos de {src_alta} transferidos')"
   ]
  },
  {
   "cell_type": "markdown",
   "metadata": {},
   "source": [
    "## Procesar crudo"
   ]
  },
  {
   "cell_type": "code",
   "execution_count": null,
   "metadata": {},
   "outputs": [],
   "source": [
    "arch_crudo = pd.DataFrame([f for f in src_crudo.iterdir() if f.suffix == '.tif' or f.suffix == '.tiff'], columns=['ruta'])\n",
    "arch_crudo['id'] = arch_crudo['ruta'].path.stem.str[:30]\n",
    "arch_crudo"
   ]
  },
  {
   "cell_type": "code",
   "execution_count": null,
   "metadata": {},
   "outputs": [],
   "source": [
    "crudo_gr = arch_crudo.groupby(['id'])"
   ]
  },
  {
   "cell_type": "code",
   "execution_count": null,
   "metadata": {},
   "outputs": [],
   "source": [
    "for name, group in crudo_gr:\n",
    "    #print(name)\n",
    "    newdoc = src_exp / Path(name)\n",
    "    print(f'nuevo documento: {newdoc}')\n",
    "\n",
    "    # Rutas a nuevas carpetas\n",
    "      #Crear las carpetas\n",
    "    try:     \n",
    "        newdoc.mkdir()\n",
    "    except FileExistsError as e:\n",
    "        print(f'Directorio {newdoc} existe, continuando con la copia de archivos')\n",
    "        pass\n",
    "    \n",
    "    newdoc_crudo = newdoc / Path('CRUDO')\n",
    "    print(f'newdoc crudo: {newdoc_crudo}')  \n",
    "\n",
    "    try:\n",
    "        newdoc_crudo.mkdir()\n",
    "        print(f\"Creada newdoc crudo {newdoc_crudo}\")\n",
    "    except FileExistsError as e:\n",
    "        print(f'Error creando {e}')\n",
    "        pass\n",
    "\n",
    "    #tra q  nsferir archivos\n",
    "\n",
    "    for index, row in group.iterrows():\n",
    "        try:\n",
    "            copy2(row.ruta, newdoc_crudo)\n",
    "            print(f'Copiado archivo: {row.ruta}')\n",
    "        except Exception as e:\n",
    "            print(f'Error copiando :{e}')\n",
    "            continue\n",
    "\n",
    "    print(f'archivos de {src_crudo} transferidos')"
   ]
  },
  {
   "cell_type": "markdown",
   "metadata": {},
   "source": [
    "## Procesar media"
   ]
  },
  {
   "cell_type": "code",
   "execution_count": null,
   "metadata": {},
   "outputs": [],
   "source": [
    "arch_media = pd.DataFrame([f for f in src_media.iterdir() if f.suffix == '.jpg' or f.suffix == '.jpeg'], columns=['ruta'])\n",
    "#df['identifier'] = [f.stem[:17] for f in lista_arch]\n",
    "arch_media['id'] = arch_media['ruta'].path.stem.str[:30]\n",
    "arch_media"
   ]
  },
  {
   "cell_type": "code",
   "execution_count": null,
   "metadata": {},
   "outputs": [],
   "source": [
    "media_gr = arch_media.groupby(['id'])"
   ]
  },
  {
   "cell_type": "code",
   "execution_count": null,
   "metadata": {},
   "outputs": [],
   "source": [
    "for name, group in media_gr:\n",
    "    #print(name)\n",
    "    newdoc = src_exp / Path(name)\n",
    "    print(f'nuevo documento: {newdoc}')\n",
    "\n",
    "    #Crear las carpetas\n",
    "    try:     \n",
    "        newdoc.mkdir()\n",
    "    except FileExistsError as e:\n",
    "        print(f'Directorio {newdoc} existe, continuando con la copia de archivos')\n",
    "        pass\n",
    "\n",
    "    # Rutas a nuevas carpetas\n",
    "    \n",
    "    newdoc_media = newdoc / Path('MEDIA')\n",
    "    print(f'newdoc media: {newdoc_media}')\n",
    "\n",
    "    try:\n",
    "        newdoc_media.mkdir()\n",
    "        print(f\"Creada newdoc media {newdoc_media}\")\n",
    "    except FileExistsError as e:\n",
    "        print(f'Error creando: {e}')\n",
    "        pass\n",
    "\n",
    "    #transferir archivos\n",
    "\n",
    "    for index, row in group.iterrows():\n",
    "        try:\n",
    "            copy2(row.ruta, newdoc_media)\n",
    "            print(f'Copiado archivo: {row.ruta}')\n",
    "        except Exception as e:\n",
    "            print(e)\n",
    "            continue\n",
    "\n",
    "    print(f'archivos de {src_media} transferidos')"
   ]
  }
 ],
 "metadata": {
  "kernelspec": {
   "display_name": "base",
   "language": "python",
   "name": "python3"
  },
  "language_info": {
   "codemirror_mode": {
    "name": "ipython",
    "version": 3
   },
   "file_extension": ".py",
   "mimetype": "text/x-python",
   "name": "python",
   "nbconvert_exporter": "python",
   "pygments_lexer": "ipython3",
   "version": "3.9.12"
  },
  "orig_nbformat": 4
 },
 "nbformat": 4,
 "nbformat_minor": 2
}
