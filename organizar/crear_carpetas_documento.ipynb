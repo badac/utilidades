{
 "cells": [
  {
   "cell_type": "markdown",
   "metadata": {},
   "source": [
    "## Generar imágenes MEDIA, BAJA y MINI\n",
    "\n",
    "Este script genera imágenes en MEDIA y BAJA a partir de ALTA\n",
    "Hay varios modos de funcionamiento, dependiendo de las necesidades"
   ]
  },
  {
   "cell_type": "code",
   "execution_count": null,
   "metadata": {},
   "outputs": [],
   "source": [
    "import os\n",
    "import sys\n",
    "import datetime\n",
    "from pathlib import Path\n",
    "import numpy as np\n",
    "import pandas as pd\n",
    "from PIL import Image"
   ]
  },
  {
   "cell_type": "markdown",
   "metadata": {},
   "source": [
    "## Generación desde tabla con rutas\n",
    "\n",
    "Genera copias usando como entrada una tabla con rutas a los archivos originales.  Las rutas deben llevar a una imagen.  Este script no filtra archivos que no son de imagen"
   ]
  },
  {
   "cell_type": "code",
   "execution_count": null,
   "metadata": {},
   "outputs": [],
   "source": [
    "#ruta a la tabla de datos\n",
    "tabla = \"tabla_entrada.csv\"\n",
    "#nombre de la columna con las rutas a la carpeta de documentos\n",
    "col_rutas = \"ruta_doc\"\n"
   ]
  },
  {
   "cell_type": "code",
   "execution_count": null,
   "metadata": {},
   "outputs": [],
   "source": [
    "datos = pd.read_csv(tabla)\n",
    "datos = datos.dropna(how='all')\n",
    "datos = datos[datos['doc_existe'] == 1]\n",
    "datos"
   ]
  },
  {
   "cell_type": "markdown",
   "metadata": {},
   "source": [
    "## Crear carpetas MEDIA, BAJA y MINI"
   ]
  },
  {
   "cell_type": "code",
   "execution_count": null,
   "metadata": {},
   "outputs": [],
   "source": [
    "for index, row in datos.iterrows():\n",
    "    ruta_doc = row[col_rutas]\n",
    "    ruta_media = Path(ruta_doc) / Path('MEDIA')\n",
    "    ruta_baja = Path(ruta_doc) / Path('BAJA')\n",
    "    ruta_mini = Path(ruta_doc) / Path('MINI')\n",
    "\n",
    "    try:\n",
    "        ruta_media.mkdir()\n",
    "        print(f'Creada ruta MEDIA en {ruta_media}')\n",
    "    except Exception as e:\n",
    "        print(f'Error creando MEDIA en: {ruta_media}')\n",
    "        print(e)\n",
    "\n",
    "    try:\n",
    "        ruta_baja.mkdir()\n",
    "        print(f'Creada ruta BAJA en {ruta_baja}')\n",
    "    except Exception as e:\n",
    "        print(f'Error creando BAJA en: {ruta_baja}')\n",
    "        print(e)\n",
    "\n",
    "    try:\n",
    "        ruta_mini.mkdir()\n",
    "        print(f'Creada ruta MINI en {ruta_mini}')\n",
    "    except Exception as e:\n",
    "        print(f'Error creando MINI en: {ruta_mini}')\n",
    "        print(e)  "
   ]
  }
 ],
 "metadata": {
  "kernelspec": {
   "display_name": "base",
   "language": "python",
   "name": "python3"
  },
  "language_info": {
   "codemirror_mode": {
    "name": "ipython",
    "version": 3
   },
   "file_extension": ".py",
   "mimetype": "text/x-python",
   "name": "python",
   "nbconvert_exporter": "python",
   "pygments_lexer": "ipython3",
   "version": "3.9.12"
  },
  "orig_nbformat": 4,
  "vscode": {
   "interpreter": {
    "hash": "a9ddf0888e6e80559933098dbb91c0deeb75896d80260fb69c9b42af0ecb5f85"
   }
  }
 },
 "nbformat": 4,
 "nbformat_minor": 2
}
