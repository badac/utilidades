{
 "cells": [
  {
   "cell_type": "markdown",
   "metadata": {},
   "source": [
    "# Desagregar expediente\n",
    "\n",
    "Divide expedientes en documentos, agrupando las imágenes con el mismo código y organizandolas en carpetas por documento, y creando CRUDO, ALTA y MEDIA.\n",
    "\n",
    "Este código espera que dentro de cada expediente exista una serie de archivos con diferentes códigos.\n",
    "\n",
    "```\n",
    "TODO: BAJA y MINIATURA\n",
    "```"
   ]
  },
  {
   "cell_type": "code",
   "execution_count": null,
   "metadata": {},
   "outputs": [],
   "source": [
    "import sys\n",
    "import os\n",
    "from shutil import copy2\n",
    "from pathlib import Path\n",
    "import numpy as np\n",
    "import pandas as pd\n",
    "from pandas_path import path\n",
    "#from PIL import Image"
   ]
  },
  {
   "attachments": {},
   "cell_type": "markdown",
   "metadata": {},
   "source": [
    "## Crear carpetas de documentos por código"
   ]
  },
  {
   "cell_type": "code",
   "execution_count": null,
   "metadata": {},
   "outputs": [],
   "source": [
    "src_exp = Path('/Volumes/Hernan_Diaz/HD/HD_CP01/HD_CP01_EXP01/HD_CP01_EXP01_NEG01')\n",
    "src_alta = src_exp / Path('ALTA')"
   ]
  },
  {
   "cell_type": "markdown",
   "metadata": {},
   "source": [
    "## Procesar alta"
   ]
  },
  {
   "cell_type": "code",
   "execution_count": null,
   "metadata": {},
   "outputs": [],
   "source": [
    "arch_alta = pd.DataFrame([f for f in src_exp.iterdir() if f.suffix == '.tif' or f.suffix == '.tiff'], columns=['ruta'])\n",
    "arch_alta['id'] = arch_alta['ruta'].path.stem.str[:25]\n",
    "arch_alta"
   ]
  },
  {
   "cell_type": "code",
   "execution_count": null,
   "metadata": {},
   "outputs": [],
   "source": [
    "alta_gr = arch_alta.groupby('id')\n",
    "alta_gr.groups"
   ]
  },
  {
   "cell_type": "code",
   "execution_count": null,
   "metadata": {},
   "outputs": [],
   "source": [
    "for name, group in alta_gr:\n",
    "    #print(name)\n",
    "    newdoc = src_exp / Path(name)\n",
    "    print(f'nuevo documento: {newdoc}')\n",
    "    #Crear las carpetas\n",
    "\n",
    "    try:     \n",
    "        newdoc.mkdir()\n",
    "    except FileExistsError as e:\n",
    "        print(f'Directorio {newdoc} existe, continuando con la copia de archivos')\n",
    "        continue\n",
    "\n",
    "    # Rutas a nuevas carpetas\n",
    "    newdoc_alta = newdoc / Path('ALTA')\n",
    "    print(f'newdoc alta: {newdoc_alta}')\n",
    "\n",
    "    try:\n",
    "        newdoc_alta.mkdir()\n",
    "        print(f\"Creada newdoc alta {newdoc_alta}\")\n",
    "    except FileExistsError as e:\n",
    "        print(f'Error creando: {e}')\n",
    "        continue\n",
    "\n",
    "    #transferir archivos\n",
    "\n",
    "    for index, row in group.iterrows():\n",
    "        try:\n",
    "            copy2(row.ruta, newdoc_alta)\n",
    "            print(f'Copiado archivo: {row.ruta}')\n",
    "        except Exception as e:\n",
    "            print(f'Error copiando {e}')\n",
    "            continue\n",
    "    print(f'archivos de {src_alta} transferidos')"
   ]
  }
 ],
 "metadata": {
  "kernelspec": {
   "display_name": "base",
   "language": "python",
   "name": "python3"
  },
  "language_info": {
   "codemirror_mode": {
    "name": "ipython",
    "version": 3
   },
   "file_extension": ".py",
   "mimetype": "text/x-python",
   "name": "python",
   "nbconvert_exporter": "python",
   "pygments_lexer": "ipython3",
   "version": "3.9.12"
  },
  "orig_nbformat": 4
 },
 "nbformat": 4,
 "nbformat_minor": 2
}
