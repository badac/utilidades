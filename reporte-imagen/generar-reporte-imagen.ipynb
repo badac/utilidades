{
 "cells": [
  {
   "cell_type": "markdown",
   "metadata": {},
   "source": [
    "# Generar reporte en excel\n",
    "\n",
    "Generar un reporte en excel con imagenes incrustadas. Necesita como entrada una tabla con la lista de archivos para generar reporte. \n",
    "\n",
    "El ejemplo funciona con una lista generada por el software Grand Perspective.\n",
    "\n",
    "A partir de la lista se genera un reporte en excel, conla imagen en la primera columna"
   ]
  },
  {
   "cell_type": "code",
   "execution_count": 1,
   "metadata": {},
   "outputs": [],
   "source": [
    "import os\n",
    "import datetime\n",
    "import numpy as np\n",
    "import pandas as pd\n",
    "from pathlib import Path\n",
    "from PIL import Image"
   ]
  },
  {
   "cell_type": "code",
   "execution_count": null,
   "metadata": {},
   "outputs": [],
   "source": [
    "ruta_tabla = 'entrada/registros.csv'\n",
    "stamp = datetime.datetime.now()\n",
    "\n",
    "outfile = f\"salida/reporte_ERV_{stamp.strftime('%Y-%M-%d_%H-%M-%S')}.xlsx\"\n",
    "datos = pd.read_csv(ruta_tabla)\n",
    "#datos = pd.read_excel(ruta_tabla,)\n",
    "writer = pd.ExcelWriter(outfile, engine='xlsxwriter')\n",
    "\n",
    "datos = datos.astype({'baja':str, 'mini':str}, errors='raise')\n",
    "datos.insert(loc=0, column='img', value='')\n",
    "#datos = datos.dropna(subset='mini')\n",
    "datos['thumbnail'] = datos['mini'].apply(lambda x: x.split(\",\")[0] if x.split(\",\")[0].endswith('.jpg') else False)\n",
    "#datos = datos[datos['thumbnail'] != False]\n",
    "datos.to_excel(writer, sheet_name='reporte')\n",
    "book = writer.book\n",
    "\n",
    "sheet = writer.sheets['reporte']\n",
    "datos\n"
   ]
  },
  {
   "cell_type": "code",
   "execution_count": null,
   "metadata": {},
   "outputs": [],
   "source": [
    "for index, row in datos.iterrows():\n",
    "    #print(row['ruta_baja'])\n",
    "    id = row['dc:id']\n",
    "    print(f\"Procesando: {id}\")\n",
    "    path = row['ruta_mini']\n",
    "    file = row['thumbnail'] \n",
    "    if not file:\n",
    "        print(f\"Error: Documento {id} no tiene Thumbnail\")\n",
    "        continue\n",
    "    src = f\"{path}{file}\"\n",
    "    rownum = index + 2\n",
    "    cell = \"A{:1d}\".format(rownum)\n",
    "    print(src)\n",
    "    ##sheet.insert_image(index,16,path,{'object_position': 1})\n",
    "\n",
    "    if os.path.isdir(src) == True:\n",
    "        print(\"Error con {id}: Es un directorio\")\n",
    "        continue\n",
    "\n",
    "    try: \n",
    "        im = Image.open(src)\n",
    "    except FileNotFoundError:\n",
    "        print(f\"Error: File not found: {src}\")\n",
    "        continue\n",
    "\n",
    "    size = im.size\n",
    "    print(size)\n",
    "    print(cell)\n",
    "    sheet.insert_image(cell,src,{'object_position': 2})\n",
    "    sheet.set_column_pixels(0,0,128)\n",
    "    sheet.set_row_pixels(index + 1,128)\n",
    "    print(\"--- Imagen insertada ----\")\n"
   ]
  },
  {
   "cell_type": "code",
   "execution_count": null,
   "metadata": {},
   "outputs": [],
   "source": [
    "book.close()\n",
    "writer.save()"
   ]
  }
 ],
 "metadata": {
  "kernelspec": {
   "display_name": "Python 3.9.12 ('base')",
   "language": "python",
   "name": "python3"
  },
  "language_info": {
   "codemirror_mode": {
    "name": "ipython",
    "version": 3
   },
   "file_extension": ".py",
   "mimetype": "text/x-python",
   "name": "python",
   "nbconvert_exporter": "python",
   "pygments_lexer": "ipython3",
   "version": "3.9.12"
  },
  "orig_nbformat": 4,
  "vscode": {
   "interpreter": {
    "hash": "90cde0f21875ec33266a3a545c06008db47b8cb28f7fd2d8a7c1a2d06cea1491"
   }
  }
 },
 "nbformat": 4,
 "nbformat_minor": 2
}
