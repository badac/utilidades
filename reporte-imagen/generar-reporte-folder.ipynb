{
 "cells": [
  {
   "cell_type": "markdown",
   "metadata": {},
   "source": [
    "# Generar reporte en excel\n",
    "\n",
    "Generar un reporte en excel con imagenes incrustadas. Necesita como entrada la ruta a un folder con archivos.\n",
    "\n",
    "Se crea una tabla con dos columnas. Una con la imagen y otra con el nombre del archivo."
   ]
  },
  {
   "cell_type": "code",
   "execution_count": 1,
   "metadata": {},
   "outputs": [],
   "source": [
    "import os\n",
    "import datetime\n",
    "import numpy as np\n",
    "import pandas as pd\n",
    "from pathlib import Path\n",
    "from PIL import Image"
   ]
  },
  {
   "cell_type": "code",
   "execution_count": null,
   "metadata": {},
   "outputs": [],
   "source": [
    "ruta_folder = Path('/Volumes/Carlos_Caicedo/MINI')\n",
    "stamp = datetime.datetime.now()\n",
    "\n",
    "outfile = f\"salida/reporte_ERV_{stamp.strftime('%Y-%M-%d_%H-%M-%S')}.xlsx\"\n",
    "lista_archivos = [file for file in ruta_folder.iterdir()]\n",
    "datos = pd.DataFrame(lista_archivos, columns=['archivo'])\n",
    "\n",
    "datos['Código'] = datos['archivo'].apply(lambda ruta: ruta.stem)\n",
    "\n",
    "#datos = datos.sample(10)\n",
    "# Reset index, importante\n",
    "datos = datos.reset_index(drop=True)\n",
    "size = 128\n",
    "datos"
   ]
  },
  {
   "cell_type": "markdown",
   "metadata": {},
   "source": [
    "## Se crea el objeto de excel"
   ]
  },
  {
   "cell_type": "code",
   "execution_count": 6,
   "metadata": {},
   "outputs": [],
   "source": [
    "#datos = pd.read_excel(ruta_tabla,)\n",
    "writer = pd.ExcelWriter(outfile, engine='xlsxwriter')\n",
    "\n",
    "datos.insert(loc=0, column='img', value='')\n",
    "datos.to_excel(writer, sheet_name='reporte')\n",
    "book = writer.book\n",
    "\n",
    "sheet = writer.sheets['reporte']"
   ]
  },
  {
   "cell_type": "code",
   "execution_count": null,
   "metadata": {},
   "outputs": [],
   "source": [
    "for index, row in datos.iterrows():\n",
    "    #print(row['ruta_baja'])\n",
    "    id = row['Código']\n",
    "    print(f\"Procesando: {id}\")\n",
    "    file = row['archivo'] \n",
    "    if not file:\n",
    "        print(f\"Error: Documento {id} no tiene Thumbnail\")\n",
    "        continue\n",
    "    src = f\"{file}\"\n",
    "    print(src)\n",
    "    rownum = index + 2\n",
    "    cell = \"A{:1d}\".format(rownum)\n",
    "    print(src)\n",
    "    ##sheet.insert_image(index,16,path,{'object_position': 1})\n",
    "\n",
    "    print(size)\n",
    "    print(cell)\n",
    "    sheet.insert_image(cell,src,{'object_position': 2})\n",
    "    sheet.set_column_pixels(0,0,size)\n",
    "    sheet.set_row_pixels(index + 1,size)\n",
    "    print(\"--- Imagen insertada ----\")"
   ]
  },
  {
   "cell_type": "code",
   "execution_count": null,
   "metadata": {},
   "outputs": [],
   "source": [
    "book.close()\n",
    "writer.save()"
   ]
  }
 ],
 "metadata": {
  "kernelspec": {
   "display_name": "Python 3.9.12 ('base')",
   "language": "python",
   "name": "python3"
  },
  "language_info": {
   "codemirror_mode": {
    "name": "ipython",
    "version": 3
   },
   "file_extension": ".py",
   "mimetype": "text/x-python",
   "name": "python",
   "nbconvert_exporter": "python",
   "pygments_lexer": "ipython3",
   "version": "3.9.12"
  },
  "orig_nbformat": 4,
  "vscode": {
   "interpreter": {
    "hash": "90cde0f21875ec33266a3a545c06008db47b8cb28f7fd2d8a7c1a2d06cea1491"
   }
  }
 },
 "nbformat": 4,
 "nbformat_minor": 2
}
